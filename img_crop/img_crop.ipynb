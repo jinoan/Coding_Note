{
 "cells": [
  {
   "cell_type": "code",
   "execution_count": 1,
   "metadata": {},
   "outputs": [],
   "source": [
    "from img_crop import Crop\n",
    "import os\n",
    "from PIL import Image"
   ]
  },
  {
   "cell_type": "code",
   "execution_count": 2,
   "metadata": {},
   "outputs": [],
   "source": [
    "imgs = [os.path.join(path, filename) for path, _, files in os.walk('./') \n",
    "        for filename in files if os.path.splitext(filename)[-1] == '.jpg']"
   ]
  },
  {
   "cell_type": "code",
   "execution_count": 3,
   "metadata": {},
   "outputs": [],
   "source": [
    "boxes = [(170, 0, 420, 768),\n",
    "         (420, 80, 610, 688),\n",
    "         (610, 140, 735, 628),\n",
    "         (735, 190, 820, 578),\n",
    "         (820, 220, 870, 548),\n",
    "         (870, 245, 910, 523),\n",
    "         (910, 265, 935, 503),\n",
    "         (935, 280, 955, 488)]"
   ]
  },
  {
   "cell_type": "code",
   "execution_count": 4,
   "metadata": {},
   "outputs": [],
   "source": [
    "dirs = [path for path, _, files in os.walk('./') \n",
    "        for filename in files if os.path.splitext(filename)[-1] == '.jpg']"
   ]
  },
  {
   "cell_type": "code",
   "execution_count": 5,
   "metadata": {},
   "outputs": [],
   "source": [
    "labels = []\n",
    "for l in [d[2:-2] for d in dirs]:\n",
    "    if l == 'mango':\n",
    "        labels.append(['mango', 'pear', 'peach', 'grape', 'gas hwal', 'ginseng', 'lemon', '500'])\n",
    "    elif l == 'pear':\n",
    "        labels.append(['pear', 'peach', 'grape', 'gas hwal', 'ginseng', 'lemon', '500', 'mango'])\n",
    "    elif l == 'peach':\n",
    "        labels.append(['peach', 'grape', 'gas hwal', 'ginseng', 'lemon', '500', 'mango', 'pear'])\n",
    "    elif l == 'grape':\n",
    "        labels.append(['grape', 'gas hwal', 'ginseng', 'lemon', '500', 'mango', 'pear', 'peach'])\n",
    "    elif l == 'gas hwal':\n",
    "        labels.append(['gas hwal', 'ginseng', 'lemon', '500', 'mango', 'pear', 'peach', 'grape'])\n",
    "    elif l == 'ginseng':\n",
    "        labels.append(['ginseng', 'lemon', '500', 'mango', 'pear', 'peach', 'grape', 'gas hwal'])\n",
    "    elif l == 'lemon':\n",
    "        labels.append(['lemon', '500', 'mango', 'pear', 'peach', 'grape', 'gas hwal', 'ginseng'])\n",
    "    else:\n",
    "        labels.append(['500', 'mango', 'pear', 'peach', 'grape', 'gas hwal', 'ginseng', 'lemon'])"
   ]
  },
  {
   "cell_type": "code",
   "execution_count": 6,
   "metadata": {},
   "outputs": [],
   "source": [
    "imgs = [Image.open(path) for path in imgs]"
   ]
  },
  {
   "cell_type": "code",
   "execution_count": 7,
   "metadata": {},
   "outputs": [
    {
     "name": "stdout",
     "output_type": "stream",
     "text": [
      "create ./result\n",
      "create ./result/pear\n",
      "create ./result/peach\n",
      "create ./result/grape\n",
      "create ./result/gas hwal\n",
      "create ./result/ginseng\n",
      "create ./result/lemon\n",
      "create ./result/500\n",
      "create ./result/mango\n"
     ]
    }
   ],
   "source": [
    "for img, label in zip(imgs, labels):\n",
    "    cp = Crop(img, boxes, label, (300, 300))\n",
    "    cp.save('./result')"
   ]
  },
  {
   "cell_type": "code",
   "execution_count": null,
   "metadata": {},
   "outputs": [],
   "source": []
  }
 ],
 "metadata": {
  "kernelspec": {
   "display_name": "keras",
   "language": "python",
   "name": "keras"
  },
  "language_info": {
   "codemirror_mode": {
    "name": "ipython",
    "version": 3
   },
   "file_extension": ".py",
   "mimetype": "text/x-python",
   "name": "python",
   "nbconvert_exporter": "python",
   "pygments_lexer": "ipython3",
   "version": "3.7.5"
  }
 },
 "nbformat": 4,
 "nbformat_minor": 2
}
