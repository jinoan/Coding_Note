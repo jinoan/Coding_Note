{
 "cells": [
  {
   "cell_type": "code",
   "execution_count": 1,
   "metadata": {},
   "outputs": [],
   "source": [
    "import os\n",
    "import cv2\n",
    "from datetime import datetime"
   ]
  },
  {
   "cell_type": "code",
   "execution_count": 36,
   "metadata": {},
   "outputs": [],
   "source": [
    "SAVE_PATH = '/Users/noah/Documents/datasets/rps2/test/noah/'\n",
    "if os.path.isdir(SAVE_PATH):\n",
    "    os.makedirs(SAVE_PATH)\n",
    "    print(f'make path: {SAVE_PATH}')"
   ]
  },
  {
   "cell_type": "code",
   "execution_count": 43,
   "metadata": {},
   "outputs": [
    {
     "name": "stdout",
     "output_type": "stream",
     "text": [
      "writing on\n",
      "writing off\n"
     ]
    },
    {
     "data": {
      "text/plain": [
       "-1"
      ]
     },
     "execution_count": 43,
     "metadata": {},
     "output_type": "execute_result"
    }
   ],
   "source": [
    "cap = cv2.VideoCapture(1)\n",
    "cap.set(cv2.CAP_PROP_FRAME_WIDTH, 640)\n",
    "cap.set(cv2.CAP_PROP_FRAME_HEIGHT, 480)\n",
    "cap.set(cv2.CAP_PROP_SATURATION, 180)\n",
    "cap.set(cv2.CAP_PROP_AUTOFOCUS, 0)\n",
    "cap.set(cv2.CAP_PROP_FOCUS, 0)\n",
    "cap.set(cv2.CAP_PROP_AUTO_EXPOSURE, 1)\n",
    "cap.set(cv2.CAP_PROP_EXPOSURE, 280)\n",
    "cap.set(cv2.CAP_PROP_AUTO_WB, 0)\n",
    "cap.set(cv2.CAP_PROP_WB_TEMPERATURE, 4500)\n",
    "\n",
    "def center_crop(cam):\n",
    "    h, w, c = cam.shape\n",
    "    m = min(h, w)\n",
    "    y = (h - m) // 2\n",
    "    x = (w - m) // 2\n",
    "    return cam[y:y+m, x:x+m, :]\n",
    "\n",
    "iswrite = False\n",
    "count = 0\n",
    "while count < 3:\n",
    "    ret, frame = cap.read()\n",
    "    if ret:\n",
    "        frame = center_crop(frame)\n",
    "        pkey = cv2.waitKey(33)  \n",
    "        if pkey == 32:  # spacebar\n",
    "            if iswrite:\n",
    "                print('writing off')\n",
    "                iswrite = False\n",
    "            else:\n",
    "                print('writing on')\n",
    "                iswrite = True\n",
    "        elif pkey == 27:  # esc\n",
    "            break\n",
    "\n",
    "        if iswrite:\n",
    "            rec = frame.copy()\n",
    "            cv2.putText(rec, '[rec]', (15, 15), 0, 0.5, (0, 0, 255), 2)\n",
    "            cv2.imshow(\"cam\", rec)\n",
    "            if not os.path.isdir(SAVE_PATH):\n",
    "                os.makedirs(SAVE_PATH)\n",
    "            cv2.imwrite(f\"{SAVE_PATH}{datetime.now().strftime('%y%m%d%H%M%S%f')}.jpg\", frame)\n",
    "        else:\n",
    "            cv2.imshow(\"cam\", frame)\n",
    "\n",
    "        count = 0\n",
    "    else:\n",
    "        count += 1\n",
    "cap.release()\n",
    "cv2.destroyAllWindows()\n",
    "cv2.waitKey(1)"
   ]
  },
  {
   "cell_type": "code",
   "execution_count": 41,
   "metadata": {},
   "outputs": [
    {
     "data": {
      "text/plain": [
       "-1"
      ]
     },
     "execution_count": 41,
     "metadata": {},
     "output_type": "execute_result"
    }
   ],
   "source": [
    "cap.release()\n",
    "cv2.destroyAllWindows()\n",
    "cv2.waitKey(1)\n"
   ]
  },
  {
   "cell_type": "code",
   "execution_count": null,
   "metadata": {},
   "outputs": [],
   "source": []
  }
 ],
 "metadata": {
  "kernelspec": {
   "display_name": "Python 3.9.12 ('vision')",
   "language": "python",
   "name": "python3"
  },
  "language_info": {
   "codemirror_mode": {
    "name": "ipython",
    "version": 3
   },
   "file_extension": ".py",
   "mimetype": "text/x-python",
   "name": "python",
   "nbconvert_exporter": "python",
   "pygments_lexer": "ipython3",
   "version": "3.9.12"
  },
  "orig_nbformat": 4,
  "vscode": {
   "interpreter": {
    "hash": "bdd3ef15100d98b5d9e534a8e1d9c64215a9618a9ff9ceea15a1d011bf945802"
   }
  }
 },
 "nbformat": 4,
 "nbformat_minor": 2
}
