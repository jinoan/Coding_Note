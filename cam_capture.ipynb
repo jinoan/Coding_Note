{
 "cells": [
  {
   "cell_type": "code",
   "execution_count": 1,
   "metadata": {},
   "outputs": [],
   "source": [
    "import os\n",
    "import cv2\n",
    "from datetime import datetime"
   ]
  },
  {
   "cell_type": "code",
   "execution_count": 2,
   "metadata": {},
   "outputs": [],
   "source": [
    "SAVE_PATH = '/home/noah/storage1/datasets/rps/chromakey/tmp/'"
   ]
  },
  {
   "cell_type": "code",
   "execution_count": 17,
   "metadata": {},
   "outputs": [
    {
     "name": "stdout",
     "output_type": "stream",
     "text": [
      "writing on\n",
      "writing off\n",
      "writing on\n",
      "writing off\n",
      "writing on\n",
      "writing off\n",
      "writing on\n",
      "writing off\n",
      "writing on\n",
      "writing off\n",
      "writing on\n",
      "writing off\n",
      "writing on\n",
      "writing off\n",
      "writing on\n",
      "writing off\n",
      "writing on\n",
      "writing off\n",
      "writing on\n",
      "writing off\n",
      "writing on\n",
      "writing off\n",
      "writing on\n",
      "writing off\n",
      "writing on\n",
      "writing off\n",
      "writing on\n",
      "writing off\n",
      "writing on\n",
      "writing off\n",
      "writing on\n",
      "writing off\n",
      "writing on\n",
      "writing off\n",
      "writing on\n",
      "writing off\n",
      "writing on\n",
      "writing off\n",
      "writing on\n",
      "writing off\n",
      "writing on\n",
      "writing off\n",
      "writing on\n",
      "writing off\n",
      "writing on\n",
      "writing off\n",
      "writing on\n",
      "writing off\n",
      "writing on\n",
      "writing off\n",
      "writing on\n",
      "writing off\n",
      "writing on\n",
      "writing off\n",
      "writing on\n",
      "writing off\n",
      "writing on\n",
      "writing off\n",
      "writing on\n",
      "writing off\n",
      "writing on\n",
      "writing off\n",
      "writing on\n",
      "writing off\n",
      "writing on\n",
      "writing off\n",
      "writing on\n",
      "writing off\n",
      "writing on\n",
      "writing off\n",
      "writing on\n",
      "writing off\n",
      "writing on\n",
      "writing off\n",
      "writing on\n",
      "writing off\n"
     ]
    }
   ],
   "source": [
    "cap = cv2.VideoCapture(0)\n",
    "cap.set(cv2.CAP_PROP_FRAME_WIDTH, 640)\n",
    "cap.set(cv2.CAP_PROP_FRAME_HEIGHT, 480)\n",
    "cap.set(cv2.CAP_PROP_SATURATION, 180)\n",
    "cap.set(cv2.CAP_PROP_AUTOFOCUS, 0)\n",
    "cap.set(cv2.CAP_PROP_FOCUS, 0)\n",
    "cap.set(cv2.CAP_PROP_AUTO_EXPOSURE, 1)\n",
    "cap.set(cv2.CAP_PROP_EXPOSURE, 280)\n",
    "cap.set(cv2.CAP_PROP_AUTO_WB, 0)\n",
    "cap.set(cv2.CAP_PROP_WB_TEMPERATURE, 4500)\n",
    "\n",
    "iswrite = False\n",
    "while True:\n",
    "    ret, frame = cap.read()\n",
    "    cv2.imshow(\"cam\", frame)\n",
    "    pkey = cv2.waitKey(33)  \n",
    "    if pkey == 32:  # spacebar\n",
    "        if iswrite:\n",
    "            print('writing off')\n",
    "            iswrite = False\n",
    "        else:\n",
    "            print('writing on')\n",
    "            iswrite = True\n",
    "    elif pkey == 27:  # esc\n",
    "        break\n",
    "    if iswrite:\n",
    "        if not os.path.isdir(SAVE_PATH):\n",
    "            os.makedirs(SAVE_PATH)\n",
    "        cv2.imwrite(f\"{SAVE_PATH}{datetime.now().strftime('%y%m%d%H%M%S%f')}.jpg\", frame)\n",
    "cap.release()\n",
    "cv2.destroyAllWindows()"
   ]
  },
  {
   "cell_type": "code",
   "execution_count": null,
   "metadata": {},
   "outputs": [],
   "source": []
  }
 ],
 "metadata": {
  "interpreter": {
   "hash": "555667a8fb9db055ee169d2059329d663f3ccb8ec1e72ba94cfec25dc26e19f0"
  },
  "kernelspec": {
   "display_name": "Python 3.9.12 ('vision')",
   "language": "python",
   "name": "python3"
  },
  "language_info": {
   "codemirror_mode": {
    "name": "ipython",
    "version": 3
   },
   "file_extension": ".py",
   "mimetype": "text/x-python",
   "name": "python",
   "nbconvert_exporter": "python",
   "pygments_lexer": "ipython3",
   "version": "3.9.12"
  },
  "orig_nbformat": 4
 },
 "nbformat": 4,
 "nbformat_minor": 2
}
