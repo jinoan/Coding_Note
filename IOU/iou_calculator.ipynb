{
 "cells": [
  {
   "cell_type": "code",
   "execution_count": 22,
   "metadata": {},
   "outputs": [],
   "source": [
    "import numpy as np\n",
    "import pandas as pd"
   ]
  },
  {
   "cell_type": "code",
   "execution_count": 131,
   "metadata": {},
   "outputs": [],
   "source": [
    "def iou_calc(a_box, b_box):\n",
    "    # parameter format: e.g. a_box = [[x_min, y_min, x_max, y_max]]\n",
    "    \n",
    "    columns = ['x', 'y']\n",
    "    index = ['min', 'max']\n",
    "    \n",
    "    # make DataFrames\n",
    "    a_df = pd.DataFrame([a_box[0][:2], a_box[0][2:]], columns=columns, index=index)\n",
    "    b_df = pd.DataFrame([b_box[0][:2], b_box[0][2:]], columns=columns, index=index)\n",
    "    \n",
    "    # concat DataFrames\n",
    "    c_df = pd.concat([a_df, b_df])\n",
    "    \n",
    "    # check x_axis values\n",
    "    xs_df = c_df.sort_values(by=['x'], axis=0)\n",
    "    if xs_df.index[1] == 'max':\n",
    "        print('no intersection')\n",
    "        return 0.0\n",
    "    \n",
    "    # check y_axis values\n",
    "    ys_df = c_df.sort_values(by=['y'], axis=0)\n",
    "    if ys_df.index[1] == 'max':\n",
    "        print('no intersection')\n",
    "        return 0.0\n",
    "    \n",
    "    # calc iou\n",
    "    intersection = (xs_df['x'][2] - xs_df['x'][1]) * (ys_df['y'][2] - ys_df['y'][1])\n",
    "    a_area = (a_df['x'][1] - a_df['x'][0]) * (a_df['y'][1] - a_df['y'][0])\n",
    "    b_area = (b_df['x'][1] - b_df['x'][0]) * (b_df['y'][1] - b_df['y'][0])\n",
    "    union = a_area + b_area - intersection\n",
    "    iou = union / intersection\n",
    "    \n",
    "    return a_area, b_area, intersection, union, iou"
   ]
  },
  {
   "cell_type": "code",
   "execution_count": 121,
   "metadata": {},
   "outputs": [],
   "source": [
    "# 겹치는 경우\n",
    "a_box = [[319, 245, 1034, 1218]]\n",
    "b_box = [[304, 264, 1127, 1233]]"
   ]
  },
  {
   "cell_type": "code",
   "execution_count": 132,
   "metadata": {},
   "outputs": [],
   "source": [
    "# 포함하는 경우\n",
    "a_box = [[319, 245, 1034, 1218]]\n",
    "b_box = [[304, 233, 1127, 1233]]"
   ]
  },
  {
   "cell_type": "code",
   "execution_count": 107,
   "metadata": {},
   "outputs": [],
   "source": [
    "# x축에 대해서 딱 만나는 경우\n",
    "a_box = [[319, 245, 1034, 1218]]\n",
    "b_box = [[1034, 264, 1127, 1233]]"
   ]
  },
  {
   "cell_type": "code",
   "execution_count": 109,
   "metadata": {},
   "outputs": [],
   "source": [
    "# x축이 떨어진 경우\n",
    "a_box = [[319, 245, 800, 1218]]\n",
    "b_box = [[1034, 264, 1127, 1233]]"
   ]
  },
  {
   "cell_type": "code",
   "execution_count": 111,
   "metadata": {},
   "outputs": [],
   "source": [
    "# y축에 대해서 딱 만나는 경우\n",
    "a_box = [[319, 245, 1034, 777]]\n",
    "b_box = [[304, 777, 1127, 1233]]"
   ]
  },
  {
   "cell_type": "code",
   "execution_count": 113,
   "metadata": {},
   "outputs": [],
   "source": [
    "# y축이 떨어진 경우\n",
    "a_box = [[319, 245, 1034, 777]]\n",
    "b_box = [[304, 888, 1127, 1233]]"
   ]
  },
  {
   "cell_type": "code",
   "execution_count": 133,
   "metadata": {},
   "outputs": [
    {
     "data": {
      "text/plain": [
       "(695695, 823000, 695695, 823000, 1.1829896721983053)"
      ]
     },
     "execution_count": 133,
     "metadata": {},
     "output_type": "execute_result"
    }
   ],
   "source": [
    "iou_calc(a_box, b_box)"
   ]
  },
  {
   "cell_type": "code",
   "execution_count": null,
   "metadata": {},
   "outputs": [],
   "source": []
  }
 ],
 "metadata": {
  "kernelspec": {
   "display_name": "keras",
   "language": "python",
   "name": "keras"
  },
  "language_info": {
   "codemirror_mode": {
    "name": "ipython",
    "version": 3
   },
   "file_extension": ".py",
   "mimetype": "text/x-python",
   "name": "python",
   "nbconvert_exporter": "python",
   "pygments_lexer": "ipython3",
   "version": "3.7.5"
  }
 },
 "nbformat": 4,
 "nbformat_minor": 2
}
