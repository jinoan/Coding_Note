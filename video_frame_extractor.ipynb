{
 "cells": [
  {
   "cell_type": "code",
   "execution_count": null,
   "source": [
    "import cv2\n",
    "import os\n",
    "print(cv2.__version__)"
   ],
   "outputs": [],
   "metadata": {}
  },
  {
   "cell_type": "code",
   "execution_count": null,
   "source": [
    "video_file = \"\"\n",
    "save_path = \"\""
   ],
   "outputs": [],
   "metadata": {}
  },
  {
   "cell_type": "code",
   "execution_count": null,
   "source": [
    "if not os.path.isdir(save_path):\n",
    "    print(f\"mkdir {os.path.abspath(save_path)}\")\n",
    "    os.mkdir(save_path)\n",
    "\n",
    "vid_cap = cv2.VideoCapture(video_file)\n",
    "\n",
    "count = 0\n",
    "while True:\n",
    "    count += 1\n",
    "    ret, image = vid_cap.read()\n",
    "    if not ret:\n",
    "        break\n",
    "    cv2.imshow(\"frame\", image)\n",
    "    if cv2.waitKey(10) == 27:\n",
    "        break\n",
    "    cv2.imwrite(os.path.join(save_path, f\"{count}.jpg\"), image)\n",
    "    print(f\"saved image {count}.jpg\")\n",
    "cv2.destroyAllWindows()\n"
   ],
   "outputs": [],
   "metadata": {}
  }
 ],
 "metadata": {
  "orig_nbformat": 4,
  "language_info": {
   "name": "python",
   "version": "3.8.11",
   "mimetype": "text/x-python",
   "codemirror_mode": {
    "name": "ipython",
    "version": 3
   },
   "pygments_lexer": "ipython3",
   "nbconvert_exporter": "python",
   "file_extension": ".py"
  },
  "kernelspec": {
   "name": "python3",
   "display_name": "Python 3.9.7 64-bit ('tf2.6': conda)"
  },
  "interpreter": {
   "hash": "2a2cbd7c2ae053837331d1cd6cb9e98a72776d882c6fcc57ea221b7a3a1bf26e"
  }
 },
 "nbformat": 4,
 "nbformat_minor": 2
}